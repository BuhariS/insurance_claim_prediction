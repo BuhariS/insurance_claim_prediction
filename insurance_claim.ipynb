{
 "cells": [
  {
   "cell_type": "markdown",
   "id": "9a0ac6b9",
   "metadata": {},
   "source": [
    "<h1 align=center style=\"color:#000080;\">The Secret to Reducing Health Care Costs: Predicting Health Insurance Claims with Artificial Intelligence</h1>\n",
    "<h3 align=center style=\"color:#b30000;\"> By Buhari Shehu</h3>\n",
    "\n",
    "<img src=\"health_insurance.png\" alt=\"insurance_claim_-image\" style=\"width:1000px;height:500px;\">\n",
    "\n",
    "Photo created with [Canva](https://www.canva.com/design/DAFoOXz9KEw/t0VpGCQsoujxOrXxLYFRsw/edit?utm_content=DAFoOXz9KEw&utm_campaign=designshare&utm_medium=link2&utm_source=sharebutton)\n",
    "\n",
    "<h2 style=\"color:#000080;\"> Table of Contents </h2>\n",
    "<ul>\n",
    "<li><a href=\"#intro\">1. Introduction</a></li>\n",
    "<li><a href=\"#wrangling\">2. Data Wrangling</a></li>\n",
    "<li><a href=\"#eda\">3. Exploratory Data Analysis</a></li>\n",
    "<li><a href=\"#model\">4. Model Selection and Evaluation</a></li>\n",
    "<li><a href=\"#conclusions\">5. Conclusions</a></li>\n",
    "<li><a href=\"#references\">6. References</a></li>\n",
    "</ul>"
   ]
  },
  {
   "cell_type": "markdown",
   "id": "46a438d3",
   "metadata": {},
   "source": [
    "<div id='intro'></div>\n",
    "\n",
    "<h2 style=\"color:#000080;\"> 1. Introduction </h2>\n",
    "\n",
    "Insurance companies collect premiums from policyholders to cover the cost of claims and make profits. The companies may need more money to cover all of the claims that are filed if they fail to predict the cost of claims accurately. This can lead to financial losses for the insurance company, and it can also lead to policyholders being underinsured. Insurance claim analysis and prediction can also help insurance companies segment policyholders based on risk level, customise marketing strategies, enhance customer satisfaction and prevent fraud.\n",
    "    \n",
    "The goal of this project is to explore the insurance claim dataset from Kaggle and find out what influences the cost of claims made by policyholders. We will also use regression models to forecast future claims by the policyholders. The results of this project can help the insurance company to adjust the premiums and reduce expenses. The results can also inform the government about some of the main causes of health problems.\n",
    "\n",
    "<h3 style=\"color:#b30000;\"> 1.1 Dataset description</h3> \n",
    "\n",
    "The dataset is publicly available on [Kaggle](https://www.kaggle.com/datasets/mirichoi0218/insurance). It consists of the following features:\n",
    "\n",
    "\n",
    "Table 1.1: Dataset's features *(Lantz, 2013)*\n",
    "\n",
    "| Feature | Description |\n",
    "|--------|:-----------------|\n",
    "| **`age`**        | This is an integer indicating the age of the primary beneficiary (excluding those above 64 years, since they are generally covered by the government). |\n",
    "| **`sex`**       | This is the policy holder's gender, either male or female. |\n",
    "| **`bmi`**        | This is the body mass index (BMI), which provides a sense of how over or under-weight a person is relative to their height. BMI is equal to weight (in kilograms) divided by height (in meters) squared. An ideal BMI is within the range of 18.5 to 24.9. |\n",
    "| **`children`**   | This is an integer indicating the number of children / dependents covered by the insurance plan. |\n",
    "| **`smoker`**     | This is yes or no depending on whether the insured regularly smokes tobacco. |\n",
    "| **`region`**     | This is the beneficiary's place of residence in the U.S., divided into four geographic regions: northeast, southeast, southwest, or northwest. |\n",
    "|**`charges`**      |This is the individual's medical cost.|\n",
    "\n",
    "<h3 style=\"color:#b30000;\"> 1.2 Installing and importing dependencies</h3>    \n",
    "\n",
    "The following packages are essential to running this project successfully: `numpy, pandas, matplotlib, seaborn, sklearn, and xgboost`.\n"
   ]
  },
  {
   "cell_type": "code",
   "execution_count": 1,
   "id": "5d9eaff1",
   "metadata": {},
   "outputs": [],
   "source": [
    "# importing data analysis libraries\n",
    "import numpy as np\n",
    "import pandas as pd\n",
    "\n",
    "# importing visualization libraries\n",
    "import matplotlib.pyplot as plt\n",
    "%matplotlib inline\n",
    "\n",
    "import seaborn as sns\n",
    "# overriding matplotlib \n",
    "sns.set()\n",
    "\n",
    "# import a scaler\n",
    "from sklearn.preprocessing import StandardScaler\n",
    "\n",
    "# import train/test split module\n",
    "from sklearn.model_selection import train_test_split\n",
    "\n",
    "# import linear regressor\n",
    "from sklearn.linear_model import LinearRegression\n",
    "\n",
    "# import metrics\n",
    "from sklearn import metrics\n",
    "\n",
    "# import warnings\n",
    "import warnings \n",
    "warnings.filterwarnings('ignore')"
   ]
  },
  {
   "cell_type": "markdown",
   "id": "1bbd0132",
   "metadata": {},
   "source": [
    "<h3 style=\"color:#b30000;\"> 1.3 Loading the dataset</h3>    "
   ]
  },
  {
   "cell_type": "code",
   "execution_count": 2,
   "id": "b952d35d",
   "metadata": {},
   "outputs": [
    {
     "data": {
      "text/html": [
       "<div>\n",
       "<style scoped>\n",
       "    .dataframe tbody tr th:only-of-type {\n",
       "        vertical-align: middle;\n",
       "    }\n",
       "\n",
       "    .dataframe tbody tr th {\n",
       "        vertical-align: top;\n",
       "    }\n",
       "\n",
       "    .dataframe thead th {\n",
       "        text-align: right;\n",
       "    }\n",
       "</style>\n",
       "<table border=\"1\" class=\"dataframe\">\n",
       "  <thead>\n",
       "    <tr style=\"text-align: right;\">\n",
       "      <th></th>\n",
       "      <th>age</th>\n",
       "      <th>sex</th>\n",
       "      <th>bmi</th>\n",
       "      <th>children</th>\n",
       "      <th>smoker</th>\n",
       "      <th>region</th>\n",
       "      <th>charges</th>\n",
       "    </tr>\n",
       "  </thead>\n",
       "  <tbody>\n",
       "    <tr>\n",
       "      <th>0</th>\n",
       "      <td>19</td>\n",
       "      <td>female</td>\n",
       "      <td>27.90</td>\n",
       "      <td>0</td>\n",
       "      <td>yes</td>\n",
       "      <td>southwest</td>\n",
       "      <td>16884.9240</td>\n",
       "    </tr>\n",
       "    <tr>\n",
       "      <th>1</th>\n",
       "      <td>18</td>\n",
       "      <td>male</td>\n",
       "      <td>33.77</td>\n",
       "      <td>1</td>\n",
       "      <td>no</td>\n",
       "      <td>southeast</td>\n",
       "      <td>1725.5523</td>\n",
       "    </tr>\n",
       "    <tr>\n",
       "      <th>2</th>\n",
       "      <td>28</td>\n",
       "      <td>male</td>\n",
       "      <td>33.00</td>\n",
       "      <td>3</td>\n",
       "      <td>no</td>\n",
       "      <td>southeast</td>\n",
       "      <td>4449.4620</td>\n",
       "    </tr>\n",
       "  </tbody>\n",
       "</table>\n",
       "</div>"
      ],
      "text/plain": [
       "   age     sex    bmi  children smoker     region     charges\n",
       "0   19  female  27.90         0    yes  southwest  16884.9240\n",
       "1   18    male  33.77         1     no  southeast   1725.5523\n",
       "2   28    male  33.00         3     no  southeast   4449.4620"
      ]
     },
     "execution_count": 2,
     "metadata": {},
     "output_type": "execute_result"
    }
   ],
   "source": [
    "# load the dataset\n",
    "insurance_df = pd.read_csv('insurance.csv')\n",
    "insurance_df.head(3)"
   ]
  },
  {
   "cell_type": "code",
   "execution_count": 3,
   "id": "bc116bbe",
   "metadata": {},
   "outputs": [
    {
     "data": {
      "text/html": [
       "<div>\n",
       "<style scoped>\n",
       "    .dataframe tbody tr th:only-of-type {\n",
       "        vertical-align: middle;\n",
       "    }\n",
       "\n",
       "    .dataframe tbody tr th {\n",
       "        vertical-align: top;\n",
       "    }\n",
       "\n",
       "    .dataframe thead th {\n",
       "        text-align: right;\n",
       "    }\n",
       "</style>\n",
       "<table border=\"1\" class=\"dataframe\">\n",
       "  <thead>\n",
       "    <tr style=\"text-align: right;\">\n",
       "      <th></th>\n",
       "      <th>age</th>\n",
       "      <th>sex</th>\n",
       "      <th>bmi</th>\n",
       "      <th>children</th>\n",
       "      <th>smoker</th>\n",
       "      <th>region</th>\n",
       "      <th>charges</th>\n",
       "    </tr>\n",
       "  </thead>\n",
       "  <tbody>\n",
       "    <tr>\n",
       "      <th>1335</th>\n",
       "      <td>18</td>\n",
       "      <td>female</td>\n",
       "      <td>36.85</td>\n",
       "      <td>0</td>\n",
       "      <td>no</td>\n",
       "      <td>southeast</td>\n",
       "      <td>1629.8335</td>\n",
       "    </tr>\n",
       "    <tr>\n",
       "      <th>1336</th>\n",
       "      <td>21</td>\n",
       "      <td>female</td>\n",
       "      <td>25.80</td>\n",
       "      <td>0</td>\n",
       "      <td>no</td>\n",
       "      <td>southwest</td>\n",
       "      <td>2007.9450</td>\n",
       "    </tr>\n",
       "    <tr>\n",
       "      <th>1337</th>\n",
       "      <td>61</td>\n",
       "      <td>female</td>\n",
       "      <td>29.07</td>\n",
       "      <td>0</td>\n",
       "      <td>yes</td>\n",
       "      <td>northwest</td>\n",
       "      <td>29141.3603</td>\n",
       "    </tr>\n",
       "  </tbody>\n",
       "</table>\n",
       "</div>"
      ],
      "text/plain": [
       "      age     sex    bmi  children smoker     region     charges\n",
       "1335   18  female  36.85         0     no  southeast   1629.8335\n",
       "1336   21  female  25.80         0     no  southwest   2007.9450\n",
       "1337   61  female  29.07         0    yes  northwest  29141.3603"
      ]
     },
     "execution_count": 3,
     "metadata": {},
     "output_type": "execute_result"
    }
   ],
   "source": [
    "insurance_df.tail(3)"
   ]
  },
  {
   "cell_type": "markdown",
   "id": "2bc3c102",
   "metadata": {},
   "source": [
    "<div id='wrangling'></div>\n",
    "\n",
    "<h2 style=\"color:#000080;\"> 2. Data Wrangling </h2>\n",
    "\n",
    "In this section, our primary focus will be to thoroughly examine the dataset for potential issues that could impact the accuracy and reliability of our analysis. We will carefully assess the data type discrepancies, identify any missing values, check entries duplication and flag potential outliers. Addressing these issues is crucial as they can significantly impact the validity of our conclusions.\n",
    "\n",
    "**What is the size, data type and are there missing values in the dataset?**"
   ]
  },
  {
   "cell_type": "code",
   "execution_count": 4,
   "id": "d3b88292",
   "metadata": {},
   "outputs": [
    {
     "name": "stdout",
     "output_type": "stream",
     "text": [
      "<class 'pandas.core.frame.DataFrame'>\n",
      "RangeIndex: 1338 entries, 0 to 1337\n",
      "Data columns (total 7 columns):\n",
      " #   Column    Non-Null Count  Dtype  \n",
      "---  ------    --------------  -----  \n",
      " 0   age       1338 non-null   int64  \n",
      " 1   sex       1338 non-null   object \n",
      " 2   bmi       1338 non-null   float64\n",
      " 3   children  1338 non-null   int64  \n",
      " 4   smoker    1338 non-null   object \n",
      " 5   region    1338 non-null   object \n",
      " 6   charges   1338 non-null   float64\n",
      "dtypes: float64(2), int64(2), object(3)\n",
      "memory usage: 73.3+ KB\n"
     ]
    }
   ],
   "source": [
    "insurance_df.info()"
   ]
  },
  {
   "cell_type": "markdown",
   "id": "279ef047",
   "metadata": {},
   "source": [
    "The dataset consists of **1338 non-null entries** distributed across seven features, with each feature assigned the appropriate data type."
   ]
  },
  {
   "cell_type": "markdown",
   "id": "7dcd82f6",
   "metadata": {},
   "source": [
    "**Are there duplicates in the dataset?**"
   ]
  },
  {
   "cell_type": "code",
   "execution_count": 4,
   "id": "576acc6f",
   "metadata": {},
   "outputs": [
    {
     "data": {
      "text/plain": [
       "'The dataset comprises 1 duplicate(s).'"
      ]
     },
     "execution_count": 4,
     "metadata": {},
     "output_type": "execute_result"
    }
   ],
   "source": [
    "# count duplicates\n",
    "\"The dataset comprises {} duplicate(s).\".format(insurance_df.duplicated().sum())"
   ]
  },
  {
   "cell_type": "markdown",
   "id": "822ba58d",
   "metadata": {},
   "source": [
    "- ***Drop the duplicate and check***"
   ]
  },
  {
   "cell_type": "code",
   "execution_count": 5,
   "id": "b75f058e",
   "metadata": {},
   "outputs": [
    {
     "data": {
      "text/plain": [
       "'The dataset now comprises 0 duplicate(s) and 1337 non-null entries.'"
      ]
     },
     "execution_count": 5,
     "metadata": {},
     "output_type": "execute_result"
    }
   ],
   "source": [
    "insurance_df = insurance_df.drop_duplicates()\n",
    "\"The dataset now comprises {} duplicate(s) and {} non-null entries.\".format(insurance_df.duplicated().sum(), insurance_df.shape[0])"
   ]
  },
  {
   "cell_type": "markdown",
   "id": "22556e48",
   "metadata": {},
   "source": [
    "**Are there outliers in the dataset?** \n",
    "\n",
    "We will create a function to identify the outliers."
   ]
  },
  {
   "cell_type": "code",
   "execution_count": 12,
   "id": "dcdc572b",
   "metadata": {},
   "outputs": [],
   "source": [
    "def find_outlier_rows(df, col, level='both'):\n",
    "    \"\"\"\n",
    "  Finds the rows with outliers in a given column of a dataframe.\n",
    "  \n",
    "  This function takes a dataframe and a column as input, and returns the rows\n",
    "  with outliers in the given column. Outliers are identified using the\n",
    "  interquartile range (IQR) formula. The optional level parameter allows the\n",
    "  caller to specify the level of outliers to return, i.e., lower, upper, or both.\n",
    "  \n",
    "  Args:\n",
    "    df: The input dataframe.\n",
    "    col: The name of the column to search for outliers.\n",
    "    level: The level of outliers to return, i.e., 'lower', 'upper', or 'both'.\n",
    "           Defaults to 'both'.\n",
    "  \n",
    "  Returns:\n",
    "    A dataframe containing the rows with outliers in the given column.\n",
    "  \"\"\"\n",
    "    # compute the interquartile range\n",
    "    iqr = df[col].quantile(0.75) - df[col].quantile(0.25)\n",
    "\n",
    "    # compute the upper and lower bounds for identifying outliers\n",
    "    lower_bound = df[col].quantile(0.25) - 1.5 * iqr\n",
    "    upper_bound = df[col].quantile(0.75) + 1.5 * iqr\n",
    "\n",
    "    # filter the rows based on the level of outliers to return\n",
    "    if level == 'lower':\n",
    "        return df[df[col] < lower_bound]\n",
    "    elif level == 'upper':\n",
    "        return df[df[col] > upper_bound]\n",
    "    else:\n",
    "        return df[(df[col] > upper_bound) | (df[col] < lower_bound)]"
   ]
  },
  {
   "cell_type": "markdown",
   "id": "65338854",
   "metadata": {},
   "source": [
    "- ***find the outliers***"
   ]
  },
  {
   "cell_type": "code",
   "execution_count": 15,
   "id": "12d5e88c",
   "metadata": {},
   "outputs": [],
   "source": [
    "def count_outliers(df):\n",
    "    \"\"\"\n",
    "    Identify and count outliers in the numeric columns of a DataFrame.\n",
    "\n",
    "    Parameters:\n",
    "    df (DataFrame): The input DataFrame containing numeric columns.\n",
    "\n",
    "    Returns:\n",
    "    DataFrame: A DataFrame containing the count and percentage of outliers for each numeric column.\n",
    "               The index contains the column names, and the DataFrame has two columns:\n",
    "               'outlier_counts': Number of outliers found in each column.\n",
    "               'outlier_percent': Percentage of outliers relative to the total entries in each column.\n",
    "    \"\"\"\n",
    "    # select numeric columns\n",
    "    df_numeric = df.select_dtypes(include=['int', 'float'])\n",
    "    \n",
    "    # get column names\n",
    "    columns = df_numeric.columns\n",
    "    \n",
    "    # find the name of all columns with outliers\n",
    "    outlier_cols = [col for col in columns if len(find_outlier_rows(df_numeric, col)) != 0]\n",
    "    \n",
    "    # dataframe to store the results\n",
    "    outliers_df = pd.DataFrame(columns=['outlier_counts', 'outlier_percent'])\n",
    "    \n",
    "    # count the outliers and compute the percentage of outliers for each column\n",
    "    for col in outlier_cols:\n",
    "        outlier_count = len(find_outlier_rows(df_numeric, col))\n",
    "        all_entries = len(df[col])\n",
    "        outlier_percent = round(outlier_count*100/all_entries, 2)\n",
    "\n",
    "    # store the results in the dataframe\n",
    "    outliers_df.loc[col] = [outlier_count, outlier_percent]\n",
    "    # return the resulting dataframe\n",
    "    return outliers_df"
   ]
  },
  {
   "cell_type": "code",
   "execution_count": 16,
   "id": "85f2cdd3",
   "metadata": {},
   "outputs": [
    {
     "data": {
      "text/html": [
       "<div>\n",
       "<style scoped>\n",
       "    .dataframe tbody tr th:only-of-type {\n",
       "        vertical-align: middle;\n",
       "    }\n",
       "\n",
       "    .dataframe tbody tr th {\n",
       "        vertical-align: top;\n",
       "    }\n",
       "\n",
       "    .dataframe thead th {\n",
       "        text-align: right;\n",
       "    }\n",
       "</style>\n",
       "<table border=\"1\" class=\"dataframe\">\n",
       "  <thead>\n",
       "    <tr style=\"text-align: right;\">\n",
       "      <th></th>\n",
       "      <th>outlier_counts</th>\n",
       "      <th>outlier_percent</th>\n",
       "    </tr>\n",
       "  </thead>\n",
       "  <tbody>\n",
       "    <tr>\n",
       "      <th>charges</th>\n",
       "      <td>139.0</td>\n",
       "      <td>10.4</td>\n",
       "    </tr>\n",
       "  </tbody>\n",
       "</table>\n",
       "</div>"
      ],
      "text/plain": [
       "         outlier_counts  outlier_percent\n",
       "charges           139.0             10.4"
      ]
     },
     "execution_count": 16,
     "metadata": {},
     "output_type": "execute_result"
    }
   ],
   "source": [
    "count_outliers(insurance_df)"
   ]
  },
  {
   "cell_type": "markdown",
   "id": "1fa4b3e6",
   "metadata": {},
   "source": [
    "**`Charges`** have outliers. Let's examine the outliers."
   ]
  },
  {
   "cell_type": "code",
   "execution_count": 19,
   "id": "8af5e2e5",
   "metadata": {},
   "outputs": [
    {
     "data": {
      "text/html": [
       "<div>\n",
       "<style scoped>\n",
       "    .dataframe tbody tr th:only-of-type {\n",
       "        vertical-align: middle;\n",
       "    }\n",
       "\n",
       "    .dataframe tbody tr th {\n",
       "        vertical-align: top;\n",
       "    }\n",
       "\n",
       "    .dataframe thead th {\n",
       "        text-align: right;\n",
       "    }\n",
       "</style>\n",
       "<table border=\"1\" class=\"dataframe\">\n",
       "  <thead>\n",
       "    <tr style=\"text-align: right;\">\n",
       "      <th></th>\n",
       "      <th>age</th>\n",
       "      <th>sex</th>\n",
       "      <th>bmi</th>\n",
       "      <th>children</th>\n",
       "      <th>smoker</th>\n",
       "      <th>region</th>\n",
       "      <th>charges</th>\n",
       "    </tr>\n",
       "  </thead>\n",
       "  <tbody>\n",
       "    <tr>\n",
       "      <th>14</th>\n",
       "      <td>27</td>\n",
       "      <td>male</td>\n",
       "      <td>42.130</td>\n",
       "      <td>0</td>\n",
       "      <td>yes</td>\n",
       "      <td>southeast</td>\n",
       "      <td>39611.75770</td>\n",
       "    </tr>\n",
       "    <tr>\n",
       "      <th>19</th>\n",
       "      <td>30</td>\n",
       "      <td>male</td>\n",
       "      <td>35.300</td>\n",
       "      <td>0</td>\n",
       "      <td>yes</td>\n",
       "      <td>southwest</td>\n",
       "      <td>36837.46700</td>\n",
       "    </tr>\n",
       "    <tr>\n",
       "      <th>23</th>\n",
       "      <td>34</td>\n",
       "      <td>female</td>\n",
       "      <td>31.920</td>\n",
       "      <td>1</td>\n",
       "      <td>yes</td>\n",
       "      <td>northeast</td>\n",
       "      <td>37701.87680</td>\n",
       "    </tr>\n",
       "    <tr>\n",
       "      <th>29</th>\n",
       "      <td>31</td>\n",
       "      <td>male</td>\n",
       "      <td>36.300</td>\n",
       "      <td>2</td>\n",
       "      <td>yes</td>\n",
       "      <td>southwest</td>\n",
       "      <td>38711.00000</td>\n",
       "    </tr>\n",
       "    <tr>\n",
       "      <th>30</th>\n",
       "      <td>22</td>\n",
       "      <td>male</td>\n",
       "      <td>35.600</td>\n",
       "      <td>0</td>\n",
       "      <td>yes</td>\n",
       "      <td>southwest</td>\n",
       "      <td>35585.57600</td>\n",
       "    </tr>\n",
       "    <tr>\n",
       "      <th>...</th>\n",
       "      <td>...</td>\n",
       "      <td>...</td>\n",
       "      <td>...</td>\n",
       "      <td>...</td>\n",
       "      <td>...</td>\n",
       "      <td>...</td>\n",
       "      <td>...</td>\n",
       "    </tr>\n",
       "    <tr>\n",
       "      <th>1300</th>\n",
       "      <td>45</td>\n",
       "      <td>male</td>\n",
       "      <td>30.360</td>\n",
       "      <td>0</td>\n",
       "      <td>yes</td>\n",
       "      <td>southeast</td>\n",
       "      <td>62592.87309</td>\n",
       "    </tr>\n",
       "    <tr>\n",
       "      <th>1301</th>\n",
       "      <td>62</td>\n",
       "      <td>male</td>\n",
       "      <td>30.875</td>\n",
       "      <td>3</td>\n",
       "      <td>yes</td>\n",
       "      <td>northwest</td>\n",
       "      <td>46718.16325</td>\n",
       "    </tr>\n",
       "    <tr>\n",
       "      <th>1303</th>\n",
       "      <td>43</td>\n",
       "      <td>male</td>\n",
       "      <td>27.800</td>\n",
       "      <td>0</td>\n",
       "      <td>yes</td>\n",
       "      <td>southwest</td>\n",
       "      <td>37829.72420</td>\n",
       "    </tr>\n",
       "    <tr>\n",
       "      <th>1313</th>\n",
       "      <td>19</td>\n",
       "      <td>female</td>\n",
       "      <td>34.700</td>\n",
       "      <td>2</td>\n",
       "      <td>yes</td>\n",
       "      <td>southwest</td>\n",
       "      <td>36397.57600</td>\n",
       "    </tr>\n",
       "    <tr>\n",
       "      <th>1323</th>\n",
       "      <td>42</td>\n",
       "      <td>female</td>\n",
       "      <td>40.370</td>\n",
       "      <td>2</td>\n",
       "      <td>yes</td>\n",
       "      <td>southeast</td>\n",
       "      <td>43896.37630</td>\n",
       "    </tr>\n",
       "  </tbody>\n",
       "</table>\n",
       "<p>139 rows × 7 columns</p>\n",
       "</div>"
      ],
      "text/plain": [
       "      age     sex     bmi  children smoker     region      charges\n",
       "14     27    male  42.130         0    yes  southeast  39611.75770\n",
       "19     30    male  35.300         0    yes  southwest  36837.46700\n",
       "23     34  female  31.920         1    yes  northeast  37701.87680\n",
       "29     31    male  36.300         2    yes  southwest  38711.00000\n",
       "30     22    male  35.600         0    yes  southwest  35585.57600\n",
       "...   ...     ...     ...       ...    ...        ...          ...\n",
       "1300   45    male  30.360         0    yes  southeast  62592.87309\n",
       "1301   62    male  30.875         3    yes  northwest  46718.16325\n",
       "1303   43    male  27.800         0    yes  southwest  37829.72420\n",
       "1313   19  female  34.700         2    yes  southwest  36397.57600\n",
       "1323   42  female  40.370         2    yes  southeast  43896.37630\n",
       "\n",
       "[139 rows x 7 columns]"
      ]
     },
     "execution_count": 19,
     "metadata": {},
     "output_type": "execute_result"
    }
   ],
   "source": [
    "charges_outliers_df = find_outlier_rows(insurance_df, \"charges\")\n",
    "charges_outliers_df"
   ]
  },
  {
   "cell_type": "markdown",
   "id": "ef21d145",
   "metadata": {},
   "source": [
    "Let's see the summary statistics of `charges_outliers_df`."
   ]
  },
  {
   "cell_type": "code",
   "execution_count": 20,
   "id": "bf0448e6",
   "metadata": {},
   "outputs": [
    {
     "data": {
      "text/html": [
       "<div>\n",
       "<style scoped>\n",
       "    .dataframe tbody tr th:only-of-type {\n",
       "        vertical-align: middle;\n",
       "    }\n",
       "\n",
       "    .dataframe tbody tr th {\n",
       "        vertical-align: top;\n",
       "    }\n",
       "\n",
       "    .dataframe thead th {\n",
       "        text-align: right;\n",
       "    }\n",
       "</style>\n",
       "<table border=\"1\" class=\"dataframe\">\n",
       "  <thead>\n",
       "    <tr style=\"text-align: right;\">\n",
       "      <th></th>\n",
       "      <th>age</th>\n",
       "      <th>bmi</th>\n",
       "      <th>children</th>\n",
       "      <th>charges</th>\n",
       "    </tr>\n",
       "  </thead>\n",
       "  <tbody>\n",
       "    <tr>\n",
       "      <th>count</th>\n",
       "      <td>139.000000</td>\n",
       "      <td>139.000000</td>\n",
       "      <td>139.000000</td>\n",
       "      <td>139.000000</td>\n",
       "    </tr>\n",
       "    <tr>\n",
       "      <th>mean</th>\n",
       "      <td>41.079137</td>\n",
       "      <td>35.564604</td>\n",
       "      <td>1.187050</td>\n",
       "      <td>42103.947206</td>\n",
       "    </tr>\n",
       "    <tr>\n",
       "      <th>std</th>\n",
       "      <td>13.801420</td>\n",
       "      <td>4.434917</td>\n",
       "      <td>1.126546</td>\n",
       "      <td>5582.168107</td>\n",
       "    </tr>\n",
       "    <tr>\n",
       "      <th>min</th>\n",
       "      <td>18.000000</td>\n",
       "      <td>22.895000</td>\n",
       "      <td>0.000000</td>\n",
       "      <td>34617.840650</td>\n",
       "    </tr>\n",
       "    <tr>\n",
       "      <th>25%</th>\n",
       "      <td>30.000000</td>\n",
       "      <td>32.667500</td>\n",
       "      <td>0.000000</td>\n",
       "      <td>37786.149950</td>\n",
       "    </tr>\n",
       "    <tr>\n",
       "      <th>50%</th>\n",
       "      <td>43.000000</td>\n",
       "      <td>35.200000</td>\n",
       "      <td>1.000000</td>\n",
       "      <td>40974.164900</td>\n",
       "    </tr>\n",
       "    <tr>\n",
       "      <th>75%</th>\n",
       "      <td>52.500000</td>\n",
       "      <td>37.660000</td>\n",
       "      <td>2.000000</td>\n",
       "      <td>45786.706425</td>\n",
       "    </tr>\n",
       "    <tr>\n",
       "      <th>max</th>\n",
       "      <td>64.000000</td>\n",
       "      <td>52.580000</td>\n",
       "      <td>4.000000</td>\n",
       "      <td>63770.428010</td>\n",
       "    </tr>\n",
       "  </tbody>\n",
       "</table>\n",
       "</div>"
      ],
      "text/plain": [
       "              age         bmi    children       charges\n",
       "count  139.000000  139.000000  139.000000    139.000000\n",
       "mean    41.079137   35.564604    1.187050  42103.947206\n",
       "std     13.801420    4.434917    1.126546   5582.168107\n",
       "min     18.000000   22.895000    0.000000  34617.840650\n",
       "25%     30.000000   32.667500    0.000000  37786.149950\n",
       "50%     43.000000   35.200000    1.000000  40974.164900\n",
       "75%     52.500000   37.660000    2.000000  45786.706425\n",
       "max     64.000000   52.580000    4.000000  63770.428010"
      ]
     },
     "execution_count": 20,
     "metadata": {},
     "output_type": "execute_result"
    }
   ],
   "source": [
    "charges_outliers_df.describe()"
   ]
  },
  {
   "cell_type": "markdown",
   "id": "ff1e52c4",
   "metadata": {},
   "source": [
    "- The **`charges`** outliers range from **`$34,617 - $63,770`**. Given that these values represent substantial costs to the insurance firm, they will be retained in the dataset without any alterations."
   ]
  },
  {
   "cell_type": "markdown",
   "id": "5bfbf010",
   "metadata": {},
   "source": [
    "<div id='eda'></div>\n",
    "\n",
    "<h2 style=\"color:#000080;\"> 3. Exploratory Data Analysis & Feature Engineering</h2>\n",
    "\n",
    "In this section, our aim is to thoroughly explore the dataset, uncovering patterns and insights that will serve as a guide for formulating meaningful questions and conducting in-depth analyses. To achieve this, we will also engineer new features and approach the dataset from multiple perspectives: univariate, bivariate, and multivariate."
   ]
  },
  {
   "cell_type": "markdown",
   "id": "a7f89000",
   "metadata": {},
   "source": [
    "<h3 style=\"color:#b30000;\"> 3.1 Feature Engineering</h3>\n",
    "In this sub-section, we will engineer new features to enable us to see the distribution and influence of <span style=\"color:blue;\"><b>BMI</b></span>  and <span style=\"color:blue;\"><b>age</b></span> across various clusters.\n",
    " will be clustered in groups with a range of 10 years while the BMI will be clustered based on "
   ]
  },
  {
   "cell_type": "markdown",
   "id": "ec3fcacf",
   "metadata": {},
   "source": [
    "<h3 style=\"color:#b30000;\"> 3.2 Univariate Analyses</h3>"
   ]
  },
  {
   "cell_type": "markdown",
   "id": "94059d1c",
   "metadata": {},
   "source": [
    "**What are the summary statistics of the dataset?**"
   ]
  },
  {
   "cell_type": "code",
   "execution_count": 15,
   "id": "097f2b66",
   "metadata": {},
   "outputs": [
    {
     "data": {
      "text/html": [
       "<div>\n",
       "<style scoped>\n",
       "    .dataframe tbody tr th:only-of-type {\n",
       "        vertical-align: middle;\n",
       "    }\n",
       "\n",
       "    .dataframe tbody tr th {\n",
       "        vertical-align: top;\n",
       "    }\n",
       "\n",
       "    .dataframe thead th {\n",
       "        text-align: right;\n",
       "    }\n",
       "</style>\n",
       "<table border=\"1\" class=\"dataframe\">\n",
       "  <thead>\n",
       "    <tr style=\"text-align: right;\">\n",
       "      <th></th>\n",
       "      <th>age</th>\n",
       "      <th>bmi</th>\n",
       "      <th>children</th>\n",
       "      <th>charges</th>\n",
       "    </tr>\n",
       "  </thead>\n",
       "  <tbody>\n",
       "    <tr>\n",
       "      <th>count</th>\n",
       "      <td>1337.000000</td>\n",
       "      <td>1337.000000</td>\n",
       "      <td>1337.000000</td>\n",
       "      <td>1337.000000</td>\n",
       "    </tr>\n",
       "    <tr>\n",
       "      <th>mean</th>\n",
       "      <td>39.222139</td>\n",
       "      <td>30.663452</td>\n",
       "      <td>1.095737</td>\n",
       "      <td>13279.121487</td>\n",
       "    </tr>\n",
       "    <tr>\n",
       "      <th>std</th>\n",
       "      <td>14.044333</td>\n",
       "      <td>6.100468</td>\n",
       "      <td>1.205571</td>\n",
       "      <td>12110.359656</td>\n",
       "    </tr>\n",
       "    <tr>\n",
       "      <th>min</th>\n",
       "      <td>18.000000</td>\n",
       "      <td>15.960000</td>\n",
       "      <td>0.000000</td>\n",
       "      <td>1121.873900</td>\n",
       "    </tr>\n",
       "    <tr>\n",
       "      <th>25%</th>\n",
       "      <td>27.000000</td>\n",
       "      <td>26.290000</td>\n",
       "      <td>0.000000</td>\n",
       "      <td>4746.344000</td>\n",
       "    </tr>\n",
       "    <tr>\n",
       "      <th>50%</th>\n",
       "      <td>39.000000</td>\n",
       "      <td>30.400000</td>\n",
       "      <td>1.000000</td>\n",
       "      <td>9386.161300</td>\n",
       "    </tr>\n",
       "    <tr>\n",
       "      <th>75%</th>\n",
       "      <td>51.000000</td>\n",
       "      <td>34.700000</td>\n",
       "      <td>2.000000</td>\n",
       "      <td>16657.717450</td>\n",
       "    </tr>\n",
       "    <tr>\n",
       "      <th>max</th>\n",
       "      <td>64.000000</td>\n",
       "      <td>53.130000</td>\n",
       "      <td>5.000000</td>\n",
       "      <td>63770.428010</td>\n",
       "    </tr>\n",
       "  </tbody>\n",
       "</table>\n",
       "</div>"
      ],
      "text/plain": [
       "               age          bmi     children       charges\n",
       "count  1337.000000  1337.000000  1337.000000   1337.000000\n",
       "mean     39.222139    30.663452     1.095737  13279.121487\n",
       "std      14.044333     6.100468     1.205571  12110.359656\n",
       "min      18.000000    15.960000     0.000000   1121.873900\n",
       "25%      27.000000    26.290000     0.000000   4746.344000\n",
       "50%      39.000000    30.400000     1.000000   9386.161300\n",
       "75%      51.000000    34.700000     2.000000  16657.717450\n",
       "max      64.000000    53.130000     5.000000  63770.428010"
      ]
     },
     "execution_count": 15,
     "metadata": {},
     "output_type": "execute_result"
    }
   ],
   "source": [
    "insurance_df.describe()"
   ]
  },
  {
   "cell_type": "markdown",
   "id": "8e8a9c46",
   "metadata": {},
   "source": [
    "Based on the above summary statistics:\n",
    "\n",
    "1. **`Age`** and **`charges`** exhibit high variability, indicating a wide range of values within these variables.\n",
    "\n",
    "2. More than half of the policyholders are above 39 years old, and all of them meet the necessary age requirements, with none below the legal age of 18 or having reached the retirement age of 65 years.\n",
    "We will compare the charges across different age groups to gain insights into the impact of age on insurance costs.\n",
    "\n",
    "3. Over half of the policyholders are classified as obese (BMI > 30), while a portion of them falls under the underweight category (BMI < 18.5), showcasing diverse **`BMI`** distributions. It will be interesting to compare the charges across BMI categories.\n",
    "\n",
    "4. Approximately half of the policyholders have one or no child, indicating diverse family sizes among the insured. To further investigate the relationship between family size and insurance charges, a new feature will be engineered to categorize policyholders into different groups based on the number of children they have.\n",
    "\n",
    "5. The highest charge observed in the dataset is $63,770, representing the most significant insurance cost incurred by a policyholder.\n",
    "\n",
    "These insights provide a valuable overview of the dataset, highlighting the demographic and cost-related characteristics of the policyholders.\n",
    "\n",
    "Let us investigate the skweness of the numerical variables.\n",
    "\n",
    "**Skweness**"
   ]
  },
  {
   "cell_type": "code",
   "execution_count": 41,
   "id": "8994667d",
   "metadata": {},
   "outputs": [
    {
     "data": {
      "text/plain": [
       "age         0.054781\n",
       "bmi         0.283914\n",
       "children    0.937421\n",
       "charges     1.515391\n",
       "dtype: float64"
      ]
     },
     "execution_count": 41,
     "metadata": {},
     "output_type": "execute_result"
    }
   ],
   "source": [
    " insurance_df.skew()"
   ]
  },
  {
   "cell_type": "markdown",
   "id": "521a448a",
   "metadata": {},
   "source": [
    "- Based on the skewness values of less than 1 for **`age, BMI, and children`**, we can infer that these variables are approximately symmetrical. However **`charges`** with skewness greater than 1.5 are asymmetric, indicating a significant departure from symmetry. In such cases, the median charge of about **$9,400** is more appropriate than the mean in summarizing the variable. "
   ]
  },
  {
   "cell_type": "markdown",
   "id": "644defb9",
   "metadata": {},
   "source": [
    "**How are the variables distributed?**"
   ]
  },
  {
   "cell_type": "code",
   "execution_count": 21,
   "id": "42b4a658",
   "metadata": {},
   "outputs": [
    {
     "data": {
      "image/png": "[encoded data removed]",
      "text/plain": [
       "<Figure size 720x720 with 4 Axes>"
      ]
     },
     "metadata": {},
     "output_type": "display_data"
    }
   ],
   "source": [
    "# histograms\n",
    "list_numerical_feat = [\"age\", \"bmi\", \"children\", \"charges\"]\n",
    "insurance_df[list_numerical_feat].hist(figsize=(10,10));"
   ]
  },
  {
   "cell_type": "markdown",
   "id": "50b3c320",
   "metadata": {},
   "source": [
    "The graphical representations reveal the following:\n",
    "1. **`Age`** follows an approximately uniform distribution, with teenagers comprising the majority of policyholders.\n",
    "2. **`BMI`** exhibits an approximately normal distribution.\n",
    "3. The number of **`children`** and insurance **`charges`** both display right-skewed distributions.\n",
    "\n",
    "Feature Engineering"
   ]
  },
  {
   "cell_type": "markdown",
   "id": "6403250e",
   "metadata": {},
   "source": [
    "**How do charges differ based on BMI groups?**\n",
    "\n",
    "To answer this question, we will group the BMI values using the following table by [CDC](https://www.cdc.gov/healthyweight/assessing/index.html):\n",
    "\n",
    "| BMI      | Weight Status |\n",
    "| ----------- | ----------- |\n",
    "| Below 18.5     | Underweight|\n",
    "| 18.5—24.9  | Healthy Weight |\n",
    "| 25.0—29.9     | Overweight  |\n",
    "| 30.0 and Above  | Obesity   |\t\n",
    "\t\n",
    "\t\n",
    "\t"
   ]
  },
  {
   "cell_type": "code",
   "execution_count": 22,
   "id": "4040f478",
   "metadata": {},
   "outputs": [],
   "source": [
    "categories = ['Underweight', 'Normal Weight', 'Overweight', 'Obese']\n",
    "thresholds = [18.5, 25, 30]"
   ]
  },
  {
   "cell_type": "code",
   "execution_count": 23,
   "id": "9d86679b",
   "metadata": {},
   "outputs": [],
   "source": [
    "# Create a new column 'BMI Category' and map the values\n",
    "insurance_df['bmi_category'] = pd.cut(insurance_df['bmi'], bins=[0] + thresholds + [float('inf')], labels=categories)"
   ]
  },
  {
   "cell_type": "code",
   "execution_count": 40,
   "id": "0557ba7b",
   "metadata": {},
   "outputs": [
    {
     "data": {
      "text/html": [
       "<div>\n",
       "<style scoped>\n",
       "    .dataframe tbody tr th:only-of-type {\n",
       "        vertical-align: middle;\n",
       "    }\n",
       "\n",
       "    .dataframe tbody tr th {\n",
       "        vertical-align: top;\n",
       "    }\n",
       "\n",
       "    .dataframe thead th {\n",
       "        text-align: right;\n",
       "    }\n",
       "</style>\n",
       "<table border=\"1\" class=\"dataframe\">\n",
       "  <thead>\n",
       "    <tr style=\"text-align: right;\">\n",
       "      <th></th>\n",
       "      <th>age</th>\n",
       "      <th>sex</th>\n",
       "      <th>bmi</th>\n",
       "      <th>children</th>\n",
       "      <th>smoker</th>\n",
       "      <th>region</th>\n",
       "      <th>charges</th>\n",
       "      <th>bmi_category</th>\n",
       "    </tr>\n",
       "  </thead>\n",
       "  <tbody>\n",
       "    <tr>\n",
       "      <th>0</th>\n",
       "      <td>19</td>\n",
       "      <td>female</td>\n",
       "      <td>27.90</td>\n",
       "      <td>0</td>\n",
       "      <td>yes</td>\n",
       "      <td>southwest</td>\n",
       "      <td>16884.9240</td>\n",
       "      <td>Overweight</td>\n",
       "    </tr>\n",
       "    <tr>\n",
       "      <th>1</th>\n",
       "      <td>18</td>\n",
       "      <td>male</td>\n",
       "      <td>33.77</td>\n",
       "      <td>1</td>\n",
       "      <td>no</td>\n",
       "      <td>southeast</td>\n",
       "      <td>1725.5523</td>\n",
       "      <td>Obese</td>\n",
       "    </tr>\n",
       "    <tr>\n",
       "      <th>2</th>\n",
       "      <td>28</td>\n",
       "      <td>male</td>\n",
       "      <td>33.00</td>\n",
       "      <td>3</td>\n",
       "      <td>no</td>\n",
       "      <td>southeast</td>\n",
       "      <td>4449.4620</td>\n",
       "      <td>Obese</td>\n",
       "    </tr>\n",
       "  </tbody>\n",
       "</table>\n",
       "</div>"
      ],
      "text/plain": [
       "   age     sex    bmi  children smoker     region     charges bmi_category\n",
       "0   19  female  27.90         0    yes  southwest  16884.9240   Overweight\n",
       "1   18    male  33.77         1     no  southeast   1725.5523        Obese\n",
       "2   28    male  33.00         3     no  southeast   4449.4620        Obese"
      ]
     },
     "execution_count": 40,
     "metadata": {},
     "output_type": "execute_result"
    }
   ],
   "source": [
    "insurance_df.head(3)"
   ]
  },
  {
   "cell_type": "code",
   "execution_count": 24,
   "id": "679f2f84",
   "metadata": {},
   "outputs": [
    {
     "data": {
      "text/html": [
       "<div>\n",
       "<style scoped>\n",
       "    .dataframe tbody tr th:only-of-type {\n",
       "        vertical-align: middle;\n",
       "    }\n",
       "\n",
       "    .dataframe tbody tr th {\n",
       "        vertical-align: top;\n",
       "    }\n",
       "\n",
       "    .dataframe thead th {\n",
       "        text-align: right;\n",
       "    }\n",
       "</style>\n",
       "<table border=\"1\" class=\"dataframe\">\n",
       "  <thead>\n",
       "    <tr style=\"text-align: right;\">\n",
       "      <th></th>\n",
       "      <th>bmi_category</th>\n",
       "      <th>charges</th>\n",
       "    </tr>\n",
       "  </thead>\n",
       "  <tbody>\n",
       "    <tr>\n",
       "      <th>0</th>\n",
       "      <td>Underweight</td>\n",
       "      <td>21</td>\n",
       "    </tr>\n",
       "    <tr>\n",
       "      <th>1</th>\n",
       "      <td>Normal Weight</td>\n",
       "      <td>226</td>\n",
       "    </tr>\n",
       "    <tr>\n",
       "      <th>2</th>\n",
       "      <td>Overweight</td>\n",
       "      <td>386</td>\n",
       "    </tr>\n",
       "    <tr>\n",
       "      <th>3</th>\n",
       "      <td>Obese</td>\n",
       "      <td>704</td>\n",
       "    </tr>\n",
       "  </tbody>\n",
       "</table>\n",
       "</div>"
      ],
      "text/plain": [
       "    bmi_category  charges\n",
       "0    Underweight       21\n",
       "1  Normal Weight      226\n",
       "2     Overweight      386\n",
       "3          Obese      704"
      ]
     },
     "execution_count": 24,
     "metadata": {},
     "output_type": "execute_result"
    }
   ],
   "source": [
    "bmi_df_count = insurance_df[[\"bmi_category\", \"charges\"]].groupby(by=\"bmi_category\", as_index=False).count()\n",
    "bmi_df_count "
   ]
  },
  {
   "cell_type": "code",
   "execution_count": 26,
   "id": "3a67f55a",
   "metadata": {},
   "outputs": [
    {
     "data": {
      "image/png": "[encoded data removed]",
      "text/plain": [
       "<Figure size 432x288 with 1 Axes>"
      ]
     },
     "metadata": {},
     "output_type": "display_data"
    }
   ],
   "source": [
    "# Plot the bar chart\n",
    "plt.bar(bmi_df_count.bmi_category, bmi_df_count.charges)\n",
    "plt.xlabel('BMI Category')\n",
    "plt.ylabel('Counts')\n",
    "plt.title('BMI Category Distribution')\n",
    "\n",
    "# Display the bar chart\n",
    "plt.show()"
   ]
  },
  {
   "cell_type": "markdown",
   "id": "371da8b3",
   "metadata": {},
   "source": [
    "The image displays a bar graph representing the distribution of BMI categories among policyholders. It reveals a significant proportion of policyholders fall into the overweight or obese categories. Specifically, the obese category comprises the largest group, followed by the overweight category, while the normal weight category ranks third in terms of prevalence. This data underscores the prevailing issue of obesity among policyholders. Conversely, the underweight category consists of the fewest individuals.\n",
    "\n",
    "Obesity is a risk factor for many chronic diseases, such as heart disease, stroke, type 2 diabetes, and some types of cancer. This factor has the potential of increasing medical costs and consequently insurance charges. There are a number of things that can be done to reduce obesity, such as eating a healthy diet, exercising regularly, and getting enough sleep."
   ]
  },
  {
   "cell_type": "code",
   "execution_count": 27,
   "id": "c78669af",
   "metadata": {},
   "outputs": [
    {
     "data": {
      "image/png": "[encoded data removed]",
      "text/plain": [
       "<Figure size 432x288 with 1 Axes>"
      ]
     },
     "metadata": {},
     "output_type": "display_data"
    }
   ],
   "source": [
    "# Plotting multiple boxplots\n",
    "sns.boxplot(x='bmi_category', y='charges', data=insurance_df)\n",
    "\n",
    "# Adding labels and title\n",
    "plt.xlabel('BMI Categories')\n",
    "plt.ylabel('Charges')\n",
    "plt.title('Boxplots of Charges by BMI')\n",
    "\n",
    "# Show the plot\n",
    "plt.show()"
   ]
  },
  {
   "cell_type": "markdown",
   "id": "32e2135e",
   "metadata": {},
   "source": [
    "The box plot shows that the median charge is higher for people who are obese than for people who are normal weight or underweight. The interquartile range is also wider for people who are obese, which indicates that there is more variation in the charges for people who are obese. There are also a few outliers for people who are obese, which indicates that there are some people who have very high charges.\n",
    "\n",
    "This box plot suggests that there is a positive association between **`BMI`** and **`charges`**. This means that people who are obese tend to have higher medical charges than people who are normal weight or underweight. This association may be due to a number of factors, such as the fact that obese people are more likely to have chronic diseases that require medical care.\n",
    "\n",
    "**Recommendations**\n",
    "\n",
    "- The government could provide funding for programs that promote healthy eating and exercise.\n",
    "- Employers could offer weight loss programs to their employees.\n",
    "- Insurance companies could offer discounts to people who lose weight or by providing them with access to weight loss programs.\n",
    "- Insurance companies could charge higher premiums for people who are obese"
   ]
  },
  {
   "cell_type": "markdown",
   "id": "ce1b840e",
   "metadata": {},
   "source": [
    "**How does charges differ by number of children?**"
   ]
  },
  {
   "cell_type": "code",
   "execution_count": 41,
   "id": "a87c8a07",
   "metadata": {},
   "outputs": [
    {
     "data": {
      "image/png": "[encoded data removed]",
      "text/plain": [
       "<Figure size 432x288 with 1 Axes>"
      ]
     },
     "metadata": {},
     "output_type": "display_data"
    }
   ],
   "source": [
    "# Plotting multiple boxplots\n",
    "sns.boxplot(x='children', y='charges', data=insurance_df)\n",
    "\n",
    "# Adding labels and title\n",
    "plt.xlabel('Number of children')\n",
    "plt.ylabel('Charges')\n",
    "plt.title('Boxplots of charges by number of children')\n",
    " \n",
    "# Show the plot\n",
    "plt.show()"
   ]
  },
  {
   "cell_type": "markdown",
   "id": "6d9e3189",
   "metadata": {},
   "source": [
    "The box plot analysis reveals intriguing insights: individuals without children surprisingly exhibit both the highest medical charges and the greatest variability in charges. This contradicts the common assumption that more children equate to higher medical costs. Generally, it can be concluded that the number of children doesn't exert a substantial influence on medical charges, as indicated by the closely aligned box plots. Notably, the only notable deviation from this trend emerges in the box plot representing individuals with 5 children."
   ]
  },
  {
   "cell_type": "markdown",
   "id": "6791a51d",
   "metadata": {},
   "source": [
    "**How does charges vary by age?**"
   ]
  },
  {
   "cell_type": "code",
   "execution_count": 42,
   "id": "59b34985",
   "metadata": {},
   "outputs": [],
   "source": [
    "# Define age ranges and corresponding labels\n",
    "age_ranges = [18, 30, 40, 50, 60, 70]\n",
    "age_labels = ['18-29', '30-39', '40-49', '50-59', '60-69']\n",
    "\n",
    "# Create a new column 'AgeRange' with age ranges\n",
    "insurance_df['age_range'] = pd.cut(insurance_df['age'], bins=age_ranges, labels=age_labels, right=False)"
   ]
  },
  {
   "cell_type": "code",
   "execution_count": 44,
   "id": "ae1323f1",
   "metadata": {},
   "outputs": [
    {
     "data": {
      "text/html": [
       "<div>\n",
       "<style scoped>\n",
       "    .dataframe tbody tr th:only-of-type {\n",
       "        vertical-align: middle;\n",
       "    }\n",
       "\n",
       "    .dataframe tbody tr th {\n",
       "        vertical-align: top;\n",
       "    }\n",
       "\n",
       "    .dataframe thead th {\n",
       "        text-align: right;\n",
       "    }\n",
       "</style>\n",
       "<table border=\"1\" class=\"dataframe\">\n",
       "  <thead>\n",
       "    <tr style=\"text-align: right;\">\n",
       "      <th></th>\n",
       "      <th>age</th>\n",
       "      <th>sex</th>\n",
       "      <th>bmi</th>\n",
       "      <th>children</th>\n",
       "      <th>smoker</th>\n",
       "      <th>region</th>\n",
       "      <th>charges</th>\n",
       "      <th>bmi_category</th>\n",
       "      <th>age_range</th>\n",
       "    </tr>\n",
       "  </thead>\n",
       "  <tbody>\n",
       "    <tr>\n",
       "      <th>0</th>\n",
       "      <td>19</td>\n",
       "      <td>female</td>\n",
       "      <td>27.90</td>\n",
       "      <td>0</td>\n",
       "      <td>yes</td>\n",
       "      <td>southwest</td>\n",
       "      <td>16884.9240</td>\n",
       "      <td>Overweight</td>\n",
       "      <td>18-29</td>\n",
       "    </tr>\n",
       "    <tr>\n",
       "      <th>1</th>\n",
       "      <td>18</td>\n",
       "      <td>male</td>\n",
       "      <td>33.77</td>\n",
       "      <td>1</td>\n",
       "      <td>no</td>\n",
       "      <td>southeast</td>\n",
       "      <td>1725.5523</td>\n",
       "      <td>Obese</td>\n",
       "      <td>18-29</td>\n",
       "    </tr>\n",
       "    <tr>\n",
       "      <th>2</th>\n",
       "      <td>28</td>\n",
       "      <td>male</td>\n",
       "      <td>33.00</td>\n",
       "      <td>3</td>\n",
       "      <td>no</td>\n",
       "      <td>southeast</td>\n",
       "      <td>4449.4620</td>\n",
       "      <td>Obese</td>\n",
       "      <td>18-29</td>\n",
       "    </tr>\n",
       "  </tbody>\n",
       "</table>\n",
       "</div>"
      ],
      "text/plain": [
       "   age     sex    bmi  children smoker     region     charges bmi_category  \\\n",
       "0   19  female  27.90         0    yes  southwest  16884.9240   Overweight   \n",
       "1   18    male  33.77         1     no  southeast   1725.5523        Obese   \n",
       "2   28    male  33.00         3     no  southeast   4449.4620        Obese   \n",
       "\n",
       "  age_range  \n",
       "0     18-29  \n",
       "1     18-29  \n",
       "2     18-29  "
      ]
     },
     "execution_count": 44,
     "metadata": {},
     "output_type": "execute_result"
    }
   ],
   "source": [
    "insurance_df.head(3)"
   ]
  },
  {
   "cell_type": "code",
   "execution_count": 51,
   "id": "0a049a06",
   "metadata": {},
   "outputs": [
    {
     "data": {
      "image/png": "[encoded data removed]",
      "text/plain": [
       "<Figure size 432x288 with 1 Axes>"
      ]
     },
     "metadata": {},
     "output_type": "display_data"
    }
   ],
   "source": [
    "# Plotting multiple boxplots\n",
    "sns.boxplot(x='age_range', y='charges', data=insurance_df)\n",
    "\n",
    "# Adding labels and title\n",
    "plt.xlabel('Age groups')\n",
    "plt.ylabel('Charges')\n",
    "plt.title('Boxplots of charges by groups')\n",
    "\n",
    "# Show the plot\n",
    "plt.show()"
   ]
  },
  {
   "cell_type": "markdown",
   "id": "80e5b1d9",
   "metadata": {},
   "source": [
    "it's important to emphasize the observable trend of medical expenses gradually rising with age. This trend holds true even though teenagers make up the majority of the dataset. Notably, the 60-69 age group stands out, exhibiting the highest cumulative charges."
   ]
  },
  {
   "cell_type": "code",
   "execution_count": 70,
   "id": "8d37795f",
   "metadata": {},
   "outputs": [
    {
     "data": {
      "image/png": "[encoded data removed]",
      "text/plain": [
       "<Figure size 1080x360 with 3 Axes>"
      ]
     },
     "metadata": {},
     "output_type": "display_data"
    }
   ],
   "source": [
    "# Sample data for multiple bar charts\n",
    "data = [\n",
    "    insurance_df['sex'],\n",
    "    insurance_df['smoker'],\n",
    "    insurance_df['region']\n",
    "]\n",
    "\n",
    "column_names = ['sex', 'smoker', 'region']\n",
    "\n",
    "# Create subplots dynamically based on the number of datasets\n",
    "num_plots = len(data)\n",
    "fig, axes = plt.subplots(1, num_plots, figsize=(5 * num_plots, 5))\n",
    "\n",
    "# Plot each dataset as a separate bar chart\n",
    "for i in range(len(data)):\n",
    "    df = pd.DataFrame(data[i].value_counts())\n",
    "    df.plot(kind='bar', ax=axes[i], legend=False)\n",
    "    axes[i].set_title(f'Bar Chart: {column_names[i]}')\n",
    "    axes[i].set_xlabel('Categories')\n",
    "    axes[i].set_ylabel('Values')\n",
    "    axes[i].tick_params(axis='x', labelrotation=0)  # Rotates x-axis labels to be horizontal\n",
    "\n",
    "# Adjust spacing between subplots\n",
    "plt.tight_layout()\n",
    "\n",
    "# Display the plot\n",
    "plt.show()\n"
   ]
  },
  {
   "cell_type": "code",
   "execution_count": 71,
   "id": "a575c618",
   "metadata": {},
   "outputs": [],
   "source": [
    "import pandas as pd\n",
    "import matplotlib.pyplot as plt\n",
    "\n",
    "def plot_multiple_bar_charts(df):\n",
    "    # Create subplots dynamically based on the number of datasets\n",
    "    num_plots = len(df.columns)\n",
    "    col = df.columns\n",
    "    fig, axes = plt.subplots(1, num_plots, figsize=(5 * num_plots, 5))\n",
    "\n",
    "    # Plot each dataset as a separate bar chart\n",
    "    for i in range(num_plots):\n",
    "        axes[i].bar(df[col[i]].value_counts().index, df[col[i]].value_counts().values)\n",
    "        axes[i].set_title(f'Bar Chart {i+1}')\n",
    "        axes[i].set_xlabel('Categories')\n",
    "        axes[i].set_ylabel('Values')\n",
    "\n",
    "    # Adjust spacing between subplots\n",
    "    plt.tight_layout()\n",
    "\n",
    "    # Display the plot\n",
    "    plt.show()\n",
    "\n"
   ]
  },
  {
   "cell_type": "code",
   "execution_count": 72,
   "id": "eaf370dd",
   "metadata": {},
   "outputs": [],
   "source": [
    "def plot_multiple_bar_charts(df):\n",
    "    # Create subplots dynamically based on the number of datasets\n",
    "    num_plots = len(df.columns)\n",
    "    col = df.columns\n",
    "    \n",
    "    # Determine the number of rows and columns for subplots\n",
    "    num_rows = 2\n",
    "    num_cols = (num_plots + 1) // 2\n",
    "    \n",
    "    fig, axes = plt.subplots(num_rows, num_cols, figsize=(15, 7))\n",
    "\n",
    "    # Plot each dataset as a separate bar chart\n",
    "    for i in range(num_plots):\n",
    "        row_idx = i // num_cols\n",
    "        col_idx = i % num_cols\n",
    "        axes[row_idx, col_idx].bar(df[col[i]].value_counts().index, df[col[i]].value_counts().values)\n",
    "        axes[row_idx, col_idx].set_title(f'Bar Chart {col[i]}')\n",
    "        axes[row_idx, col_idx].set_xlabel('Categories')\n",
    "        axes[row_idx, col_idx].set_ylabel('Values')\n",
    "\n",
    "    # Adjust spacing between subplots\n",
    "    plt.tight_layout()\n",
    "\n",
    "    # Display the plot\n",
    "    plt.show()\n"
   ]
  },
  {
   "cell_type": "code",
   "execution_count": 76,
   "id": "4718ddff",
   "metadata": {},
   "outputs": [
    {
     "data": {
      "text/html": [
       "<div>\n",
       "<style scoped>\n",
       "    .dataframe tbody tr th:only-of-type {\n",
       "        vertical-align: middle;\n",
       "    }\n",
       "\n",
       "    .dataframe tbody tr th {\n",
       "        vertical-align: top;\n",
       "    }\n",
       "\n",
       "    .dataframe thead th {\n",
       "        text-align: right;\n",
       "    }\n",
       "</style>\n",
       "<table border=\"1\" class=\"dataframe\">\n",
       "  <thead>\n",
       "    <tr style=\"text-align: right;\">\n",
       "      <th></th>\n",
       "      <th>sex</th>\n",
       "      <th>smoker</th>\n",
       "      <th>region</th>\n",
       "      <th>bmi_category</th>\n",
       "      <th>age_range</th>\n",
       "    </tr>\n",
       "  </thead>\n",
       "  <tbody>\n",
       "    <tr>\n",
       "      <th>0</th>\n",
       "      <td>female</td>\n",
       "      <td>yes</td>\n",
       "      <td>southwest</td>\n",
       "      <td>Overweight</td>\n",
       "      <td>18-29</td>\n",
       "    </tr>\n",
       "    <tr>\n",
       "      <th>1</th>\n",
       "      <td>male</td>\n",
       "      <td>no</td>\n",
       "      <td>southeast</td>\n",
       "      <td>Obese</td>\n",
       "      <td>18-29</td>\n",
       "    </tr>\n",
       "    <tr>\n",
       "      <th>2</th>\n",
       "      <td>male</td>\n",
       "      <td>no</td>\n",
       "      <td>southeast</td>\n",
       "      <td>Obese</td>\n",
       "      <td>18-29</td>\n",
       "    </tr>\n",
       "    <tr>\n",
       "      <th>3</th>\n",
       "      <td>male</td>\n",
       "      <td>no</td>\n",
       "      <td>northwest</td>\n",
       "      <td>Normal Weight</td>\n",
       "      <td>30-39</td>\n",
       "    </tr>\n",
       "    <tr>\n",
       "      <th>4</th>\n",
       "      <td>male</td>\n",
       "      <td>no</td>\n",
       "      <td>northwest</td>\n",
       "      <td>Overweight</td>\n",
       "      <td>30-39</td>\n",
       "    </tr>\n",
       "    <tr>\n",
       "      <th>...</th>\n",
       "      <td>...</td>\n",
       "      <td>...</td>\n",
       "      <td>...</td>\n",
       "      <td>...</td>\n",
       "      <td>...</td>\n",
       "    </tr>\n",
       "    <tr>\n",
       "      <th>1333</th>\n",
       "      <td>male</td>\n",
       "      <td>no</td>\n",
       "      <td>northwest</td>\n",
       "      <td>Obese</td>\n",
       "      <td>50-59</td>\n",
       "    </tr>\n",
       "    <tr>\n",
       "      <th>1334</th>\n",
       "      <td>female</td>\n",
       "      <td>no</td>\n",
       "      <td>northeast</td>\n",
       "      <td>Obese</td>\n",
       "      <td>18-29</td>\n",
       "    </tr>\n",
       "    <tr>\n",
       "      <th>1335</th>\n",
       "      <td>female</td>\n",
       "      <td>no</td>\n",
       "      <td>southeast</td>\n",
       "      <td>Obese</td>\n",
       "      <td>18-29</td>\n",
       "    </tr>\n",
       "    <tr>\n",
       "      <th>1336</th>\n",
       "      <td>female</td>\n",
       "      <td>no</td>\n",
       "      <td>southwest</td>\n",
       "      <td>Overweight</td>\n",
       "      <td>18-29</td>\n",
       "    </tr>\n",
       "    <tr>\n",
       "      <th>1337</th>\n",
       "      <td>female</td>\n",
       "      <td>yes</td>\n",
       "      <td>northwest</td>\n",
       "      <td>Overweight</td>\n",
       "      <td>60-69</td>\n",
       "    </tr>\n",
       "  </tbody>\n",
       "</table>\n",
       "<p>1337 rows × 5 columns</p>\n",
       "</div>"
      ],
      "text/plain": [
       "         sex smoker     region   bmi_category age_range\n",
       "0     female    yes  southwest     Overweight     18-29\n",
       "1       male     no  southeast          Obese     18-29\n",
       "2       male     no  southeast          Obese     18-29\n",
       "3       male     no  northwest  Normal Weight     30-39\n",
       "4       male     no  northwest     Overweight     30-39\n",
       "...      ...    ...        ...            ...       ...\n",
       "1333    male     no  northwest          Obese     50-59\n",
       "1334  female     no  northeast          Obese     18-29\n",
       "1335  female     no  southeast          Obese     18-29\n",
       "1336  female     no  southwest     Overweight     18-29\n",
       "1337  female    yes  northwest     Overweight     60-69\n",
       "\n",
       "[1337 rows x 5 columns]"
      ]
     },
     "execution_count": 76,
     "metadata": {},
     "output_type": "execute_result"
    }
   ],
   "source": [
    "categorical_df = insurance_df.select_dtypes(include=['object', 'category'])\n",
    "categorical_df"
   ]
  },
  {
   "cell_type": "code",
   "execution_count": 77,
   "id": "433e8e5f",
   "metadata": {},
   "outputs": [
    {
     "data": {
      "image/png": "[encoded data removed]",
      "text/plain": [
       "<Figure size 1080x504 with 6 Axes>"
      ]
     },
     "metadata": {},
     "output_type": "display_data"
    }
   ],
   "source": [
    "# Call the function with the DataFrame\n",
    "plot_multiple_bar_charts(categorical_df)\n"
   ]
  },
  {
   "cell_type": "code",
   "execution_count": null,
   "id": "31ae3023",
   "metadata": {},
   "outputs": [],
   "source": []
  },
  {
   "cell_type": "code",
   "execution_count": null,
   "id": "e88905e8",
   "metadata": {},
   "outputs": [],
   "source": [
    "# box plot\n",
    "sns.boxplot(x='bmi', data=df);"
   ]
  },
  {
   "cell_type": "code",
   "execution_count": null,
   "id": "a8c2ccf7",
   "metadata": {},
   "outputs": [],
   "source": [
    "# violin plot\n",
    "sns.violinplot(x='bmi', data=df);"
   ]
  },
  {
   "cell_type": "code",
   "execution_count": null,
   "id": "13e6022e",
   "metadata": {},
   "outputs": [],
   "source": [
    "# line plot\n",
    "fig, ax = plt.subplots(figsize=(20, 5))\n",
    "sns.lineplot(x=sales.date, y=(sales.weekly_sales/1e6))\n",
    "plt.xlabel('Date')\n",
    "plt.ylabel('Weekly Sales (in million USD)')\n",
    "plt.title('Weekly Sales Trend',fontdict={'fontsize': 16, 'color':'red'}, pad=5)\n",
    "plt.show()"
   ]
  },
  {
   "cell_type": "code",
   "execution_count": null,
   "id": "64b75f46",
   "metadata": {},
   "outputs": [],
   "source": [
    "# tool tip\n",
    "plt.close('all')\n",
    "fig, ax = plt.subplots(1, figsize=(12,6))\n",
    "# plot and labels\n",
    "sc = ax.scatter(x,y)\n",
    "plt.xlabel(x_name)\n",
    "plt.ylabel(y_name)\n",
    "# cursor grid lines\n",
    "lnx = plt.plot([60,60], [0,1.5], color='black', linewidth=0.3)\n",
    "lny = plt.plot([0,100], [1.5,1.5], color='black', linewidth=0.3)\n",
    "lnx[0].set_linestyle('None')\n",
    "lny[0].set_linestyle('None')\n",
    "# annotation\n",
    "annot = ax.annotate(\"\", xy=(0,0), xytext=(5,5),textcoords=\"offset points\")\n",
    "annot.set_visible(False)\n",
    "# xy limits\n",
    "plt.xlim(x.min()*0.95, x.max()*1.05)\n",
    "plt.ylim(y.min()*0.95, y.max()*1.05)\n",
    "def hover(event):\n",
    "    # check if event was in the axis\n",
    "    if event.inaxes == ax:\n",
    "        # draw lines and make sure they're visible\n",
    "        lnx[0].set_data([event.xdata, event.xdata], [0, 1.5])\n",
    "        lnx[0].set_linestyle('--')\n",
    "        lny[0].set_data([0,100], [event.ydata, event.ydata])\n",
    "        lny[0].set_linestyle('--')\n",
    "        lnx[0].set_visible(True)\n",
    "        lny[0].set_visible(True)\n",
    "        \n",
    "        # get the points contained in the event\n",
    "        cont, ind = sc.contains(event)\n",
    "        if cont:\n",
    "            # change annotation position\n",
    "            annot.xy = (event.xdata, event.ydata)\n",
    "            # write the name of every point contained in the event\n",
    "            annot.set_text(\"{}\".format(', '.join([tt[n] for n in ind[\"ind\"]])))\n",
    "            annot.set_visible(True)    \n",
    "        else:\n",
    "            annot.set_visible(False)\n",
    "    else:\n",
    "        lnx[0].set_visible(False)\n",
    "        lny[0].set_visible(False)\n",
    "fig.canvas.mpl_connect(\"motion_notify_event\", hover)\n",
    "plt.show()"
   ]
  },
  {
   "cell_type": "markdown",
   "id": "c284d506",
   "metadata": {},
   "source": [
    "**Multivariate**"
   ]
  },
  {
   "cell_type": "code",
   "execution_count": null,
   "id": "fad71e98",
   "metadata": {},
   "outputs": [],
   "source": [
    "df.corr()"
   ]
  },
  {
   "cell_type": "code",
   "execution_count": null,
   "id": "603081ab",
   "metadata": {},
   "outputs": [],
   "source": [
    "heatmap = sns.heatmap(df.corr(), vmin=-1, vmax=1, annot=True)\n",
    "heatmap.set_title('Correlation Heatmap', fontdict={'fontsize':12}, pad=12);"
   ]
  },
  {
   "cell_type": "code",
   "execution_count": null,
   "id": "27acd1b5",
   "metadata": {},
   "outputs": [],
   "source": [
    "# clustered bar chart\n"
   ]
  },
  {
   "cell_type": "code",
   "execution_count": null,
   "id": "a506a244",
   "metadata": {},
   "outputs": [],
   "source": [
    "# scatter plot\n",
    "sns.scatterplot(x='age',y='bmi',hue='insurance_claim', data=df);"
   ]
  },
  {
   "cell_type": "code",
   "execution_count": null,
   "id": "2e61d95a",
   "metadata": {},
   "outputs": [],
   "source": [
    "# pair plot\n",
    "\n",
    "sns.set_style(\"whitegrid\");\n",
    "sns.pairplot(df, hue=\"insurance_claim\");\n",
    "plt.show();"
   ]
  },
  {
   "cell_type": "code",
   "execution_count": null,
   "id": "dad7b935",
   "metadata": {},
   "outputs": [],
   "source": [
    "# bubble plot\n",
    "plt.figure(figsize=(12,8))\n",
    "sns.scatterplot(x=\"bmi\",\n",
    "                y=\"claim_amount\",\n",
    "                size=\"children\",\n",
    "                sizes=(20,100),\n",
    "                alpha=0.8,\n",
    "                hue=\"smoker\",\n",
    "                data=df);"
   ]
  },
  {
   "cell_type": "code",
   "execution_count": null,
   "id": "5335872a",
   "metadata": {},
   "outputs": [],
   "source": [
    "# joint plot\n",
    "sns.jointplot(x = 'age', y = 'bmi', data = df);\n",
    " \n",
    "sns.jointplot(x = 'age', y = 'bmi', data = df, hue='insurance_claim');"
   ]
  },
  {
   "cell_type": "code",
   "execution_count": null,
   "id": "a8600687",
   "metadata": {},
   "outputs": [],
   "source": [
    "# line plot\n",
    "plt.plot(np.arange(len(df.Y)), df.Y)\n",
    "plt.title(\"ZAR/USD over time\")\n",
    "plt.xlabel(\"Months\")\n",
    "plt.ylabel(\"ZAR/USD\")\n",
    "plt.show()"
   ]
  },
  {
   "cell_type": "code",
   "execution_count": null,
   "id": "09eae734",
   "metadata": {},
   "outputs": [],
   "source": [
    "# 2 in 1 line plot\n",
    "from matplotlib import rc\n",
    "rc('mathtext', default='regular')\n",
    "# Create blank figure\n",
    "fig = plt.figure()\n",
    "\n",
    "\n",
    "# Split figure to allow two sets of y axes\n",
    "ax = fig.add_subplot(111)\n",
    "\n",
    "\n",
    "# Plot the first line on its axis\n",
    "ax.plot(np.arange(len(df.Y)), df.Y, '-', label = 'ZAR/USD', color='orange')\n",
    "\n",
    "\n",
    "# Create second y axis and plot second line\n",
    "ax2 = ax.twinx()\n",
    "ax2.plot(np.arange(len(df.X)), df.X, '-', label = 'Exports (ZAR)')\n",
    "\n",
    "\n",
    "# Add legends for each axis\n",
    "ax.legend(loc=2)\n",
    "ax2.legend(loc=9)\n",
    "\n",
    "\n",
    "ax.grid()\n",
    "\n",
    "\n",
    "# Set labels of axes\n",
    "ax.set_xlabel(\"Months\")\n",
    "ax.set_ylabel(\"ZAR/USD\")\n",
    "ax2.set_ylabel(\"Exports (ZAR, millions)\")\n",
    "plt.show()\n"
   ]
  },
  {
   "cell_type": "markdown",
   "id": "0638598d",
   "metadata": {},
   "source": [
    "**Issues**\n",
    "\n",
    "***Predictors issues***\n",
    "- `linearity`: when we see that the Xs are not linear from the scatter plots of Xs and y we may need to transform the Xs and/or y with functions like log(x) and check to see if there is linearity then apply a linear function.\n",
    "- `collinearity`/- `multicollinearity`: when Xs are correlated with one another. This makes it hard to determine the effect of Xs on y. Similar to collinearity. This can be checked with varience inflation factor (VIF). **0-5 good, 6-10: pay attention can remove and leave one of those, >10 remove**\n",
    "\n",
    "If we fit a regression model to a dataset that is non-linear, it will fail to adequately capture the relationship in the data - resulting in a mathematically inappropriate model. In order to check for linearity, we can produce scatter plots of each individual predictor against the response variable. The intuition here is that we are looking for obvious linear relationships."
   ]
  },
  {
   "cell_type": "code",
   "execution_count": null,
   "id": "8ada49fa",
   "metadata": {},
   "outputs": [],
   "source": [
    "fig, axs = plt.subplots(2,5, figsize=(14,6),)\n",
    "fig.subplots_adjust(hspace = 0.5, wspace=.2)\n",
    "axs = axs.ravel()\n",
    "\n",
    "for index, column in enumerate(df.columns):\n",
    "    axs[index-1].set_title(\"{} vs. mpg\".format(column),fontsize=16)\n",
    "    axs[index-1].scatter(x=df[column],y=df['mpg'],color='blue',edgecolor='k')\n",
    "\n",
    "fig.tight_layout(pad=1)\n"
   ]
  },
  {
   "cell_type": "markdown",
   "id": "04daf078",
   "metadata": {},
   "source": [
    "Checking for Multicollinearity\n",
    "Multicollinearity refers to the presence of strong correlation among two or more of the predictor variables in the dataset. The presence of any correlation among predictors is detrimental to model quality for two reasons:\n",
    "\n",
    "It tends to increase the standard error;\n",
    "\n",
    "It becomes difficult to estimate the effect of any one predictor variable on the response variable.\n",
    "\n",
    "We will check for multicollinearity by generating pairwise scatter plots among predictors, and further, generating a correlation heatmap."
   ]
  },
  {
   "cell_type": "code",
   "execution_count": null,
   "id": "49cf58bd",
   "metadata": {},
   "outputs": [],
   "source": [
    "# Due to the number of visuals created, this codeblock takes about one minute to run.\n",
    "from seaborn import pairplot\n",
    "g = pairplot(df1.drop('mpg', axis='columns'))\n",
    "g.fig.set_size_inches(9,9)\n"
   ]
  },
  {
   "cell_type": "markdown",
   "id": "f818c093",
   "metadata": {},
   "source": [
    "***residuals issues***\n",
    "- `independence/ autocorrelation` when there is correlation between **residuals**. This is not desirable. It is abd especially for time series models. This can be checked by plotting the residuals and check for rectangular patterns. Can also be checked using Durbin-Watson stat: desired value approx 2, 0-2 positive autocorrelation, 2-4 negative autocorrelation\n",
    "- `homoscadacity`: constant varience among residuals for all fitted values. this makes it difficult to guage the standard deviation or error of the forecast prediction., narrow confidence interval. This can be checked by plotting residuals against predicted y. We seek a recatangular pattern not funnel one.\n",
    "- `normality`: errors/residuals are generated from normal distribution: may not be necessary, check with quantile-quantile plot, shapiro will"
   ]
  },
  {
   "cell_type": "markdown",
   "id": "246090c1",
   "metadata": {},
   "source": [
    "<div id='model'></div>\n",
    "\n",
    "## 4. Model Selection and Evaluation"
   ]
  },
  {
   "cell_type": "code",
   "execution_count": null,
   "id": "bf7232da",
   "metadata": {},
   "outputs": [],
   "source": [
    "df1 = df.copy()"
   ]
  },
  {
   "cell_type": "code",
   "execution_count": null,
   "id": "cfcdc8a0",
   "metadata": {},
   "outputs": [],
   "source": [
    "# get the predictor and the predicted variables\n",
    "X = _df.drop(['col'], axis=1)\n",
    "y = _df['col']"
   ]
  },
  {
   "cell_type": "code",
   "execution_count": null,
   "id": "2d2c8001",
   "metadata": {},
   "outputs": [],
   "source": [
    "# splitting the dataset\n",
    "X_train, X_test, y_train, y_test = train_test_split(X, y, test_size=0.2, random_state=50)"
   ]
  },
  {
   "cell_type": "code",
   "execution_count": null,
   "id": "839c4ecb",
   "metadata": {},
   "outputs": [],
   "source": [
    "# instantiatiating the model\n",
    "lm = LinearRegression()"
   ]
  },
  {
   "cell_type": "code",
   "execution_count": null,
   "id": "d37c63d9",
   "metadata": {},
   "outputs": [],
   "source": [
    "# fitting the model\n",
    "lm.fit(X_train, y_train)\n",
    "\n",
    "#without splitting\n",
    "X = df.X[:,np.newaxis] # convert shape of X from (n,) to (n,1)\n",
    "lm.fit(X, y)"
   ]
  },
  {
   "cell_type": "markdown",
   "id": "b3e03c63",
   "metadata": {},
   "source": [
    "**Evaluating the model on train set: how well the line fits the data**"
   ]
  },
  {
   "cell_type": "code",
   "execution_count": null,
   "id": "36f08938",
   "metadata": {},
   "outputs": [],
   "source": [
    "# prediction\n",
    "# generate values of y from x, using the linear model\n",
    "y_pred = lm.predict(X_train)"
   ]
  },
  {
   "cell_type": "code",
   "execution_count": null,
   "id": "9c4171b1",
   "metadata": {},
   "outputs": [],
   "source": [
    "print('MSE:', metrics.mean_squared_error(y_train, y_pred))"
   ]
  },
  {
   "cell_type": "code",
   "execution_count": null,
   "id": "24cf53fa",
   "metadata": {},
   "outputs": [],
   "source": [
    "# Multiple MSE by N to get RSS\n",
    "print(\"Residual sum of squares:\", metrics.mean_squared_error(y_train, y_pred)*len(X))"
   ]
  },
  {
   "cell_type": "code",
   "execution_count": null,
   "id": "f9621ee9",
   "metadata": {},
   "outputs": [],
   "source": [
    "print('R_squared:', metrics.r2_score(y_train, y_pred))"
   ]
  },
  {
   "cell_type": "code",
   "execution_count": null,
   "id": "0f40faf3",
   "metadata": {},
   "outputs": [],
   "source": [
    "print(\"Training:\")\n",
    "# Calculate the mean-squared-error\n",
    "print('MSE:', metrics.mean_squared_error(y_train, y_pred))\n",
    "# Calculate the R-squared metric\n",
    "print('R_squared:', metrics.r2_score(y_train, y_pred))"
   ]
  },
  {
   "cell_type": "code",
   "execution_count": null,
   "id": "a011208d",
   "metadata": {},
   "outputs": [],
   "source": [
    "# for slr\n",
    "# plot the results\n",
    "plt.scatter(X, y)  # plot the original data\n",
    "plt.plot(X, gen_y, color='red')  # plot the line connecting the generated y-values\n",
    "plt.ylabel(\"ZAR/USD\")\n",
    "plt.xlabel(\"Value of Exports (ZAR, millions)\")\n",
    "plt.show()"
   ]
  },
  {
   "cell_type": "markdown",
   "id": "e16cf004",
   "metadata": {},
   "source": [
    "**Testing the model on test set**"
   ]
  },
  {
   "cell_type": "code",
   "execution_count": null,
   "id": "e829f8bc",
   "metadata": {},
   "outputs": [],
   "source": [
    "y_pred = lm.predict(X_test)"
   ]
  },
  {
   "cell_type": "code",
   "execution_count": null,
   "id": "69862481",
   "metadata": {},
   "outputs": [],
   "source": [
    "print(\"Testing:\")\n",
    "print('MSE:', metrics.mean_squared_error(y_test, gen_y_test))\n",
    "print('R_squared:', metrics.r2_score(y_test, gen_y_test))"
   ]
  },
  {
   "cell_type": "code",
   "execution_count": null,
   "id": "e9becfd4",
   "metadata": {},
   "outputs": [],
   "source": [
    "# evaluating MLR\n",
    "from sklearn import metrics\n",
    "import math\n",
    "\n",
    "# dictionary of results\n",
    "results_dict = {'Training MSE':\n",
    "                    {\n",
    "                        \"SLR\": metrics.mean_squared_error(y_train, slr.predict(X_train[['disp']])),\n",
    "                        \"MLR\": metrics.mean_squared_error(y_train, lm.predict(X_train))\n",
    "                    },\n",
    "                'Test MSE':\n",
    "                    {\n",
    "                        \"SLR\": metrics.mean_squared_error(y_test, slr.predict(X_test[['disp']])),\n",
    "                        \"MLR\": metrics.mean_squared_error(y_test, lm.predict(X_test))\n",
    "                    },\n",
    "                'Test RMSE':\n",
    "                    {\n",
    "                        \"SLR\": math.sqrt(metrics.mean_squared_error(y_test, slr.predict(X_test[['disp']]))),\n",
    "                        \"MLR\": math.sqrt(metrics.mean_squared_error(y_test, lm.predict(X_test)))\n",
    "                    }\n",
    "                }"
   ]
  },
  {
   "cell_type": "markdown",
   "id": "945c7bb1",
   "metadata": {},
   "source": [
    "**Note**\n",
    "If Mean squared error is higher on the test set than the train set, indicating poor predictive accuracy, and R-squared is lower on the test set, indicating a worse fit on the test set.\n",
    "\n",
    "These results indicate a concept in machine learning model fitting known as overfitting. This is a phenomenon where there is:\n",
    "\n",
    "A discrepancy between the performance of the model on train and on test sets; and\n",
    "An inability of the model to generalise to data it has not seen before.\n",
    "The term comes from the fact that the model fits too well, or overfits, the training data, and does not fit well, or underfits, the testing data.\n",
    "\n",
    "In the trains to follow, we'll look at ways to improve model performance as well as prevent or mitigate overfitting."
   ]
  },
  {
   "cell_type": "markdown",
   "id": "bb456ce8",
   "metadata": {},
   "source": [
    "**Note**\n",
    "\n",
    "For big dataset we can have 3 splits: train, validation and test splits. The validation is used to check improvement in hyperparameter tuning. After we are satisfied with that we then use the test set.\n",
    "\n",
    "For small dataset where we can't afford 3 splits we can use cross-validation like k-fold. This can be used to prevent overfitting.\n",
    "\n",
    "**Stat model**\n",
    "\n",
    "SK Learn is limited in terms of metrics"
   ]
  },
  {
   "cell_type": "code",
   "execution_count": null,
   "id": "7d4adf66",
   "metadata": {},
   "outputs": [],
   "source": [
    "import statsmodels.formula.api as sm"
   ]
  },
  {
   "cell_type": "code",
   "execution_count": null,
   "id": "fdf44fdd",
   "metadata": {},
   "outputs": [],
   "source": [
    "# generating string for regression\n",
    "\n",
    "formula_str = df1.columns[0]+' ~ '+'+'.join(df1.columns[1:]); formula_str\n",
    "\n",
    "# the model \n",
    "model=sm.ols(formula=formula_str, data=df1)\n",
    "fitted = model.fit()\n",
    "# print model stats\n",
    "print(fitted.summary())"
   ]
  },
  {
   "cell_type": "markdown",
   "id": "f7e14b4a",
   "metadata": {},
   "source": [
    "<div id='conclusions'></div>\n",
    "\n",
    "## 5. Conclusions"
   ]
  },
  {
   "cell_type": "markdown",
   "id": "5592eb6c",
   "metadata": {},
   "source": [
    "<div id='references'></div>\n",
    "\n",
    "## 6. References\n",
    "\n",
    "- Lantz, B. (2013). Machine Learning with R. Packt Publishing Ltd."
   ]
  },
  {
   "cell_type": "code",
   "execution_count": null,
   "id": "7cd78b20",
   "metadata": {},
   "outputs": [],
   "source": []
  }
 ],
 "metadata": {
  "kernelspec": {
   "display_name": "Python 3 (ipykernel)",
   "language": "python",
   "name": "python3"
  },
  "language_info": {
   "codemirror_mode": {
    "name": "ipython",
    "version": 3
   },
   "file_extension": ".py",
   "mimetype": "text/x-python",
   "name": "python",
   "nbconvert_exporter": "python",
   "pygments_lexer": "ipython3",
   "version": "3.9.7"
  }
 },
 "nbformat": 4,
 "nbformat_minor": 5
}
